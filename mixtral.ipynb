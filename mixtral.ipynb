{
 "cells": [
  {
   "cell_type": "code",
   "execution_count": null,
   "metadata": {},
   "outputs": [],
   "source": [
    "## Huggingface Reference\n",
    "\n",
    "# import torch\n",
    "# from transformers import AutoTokenizer, AutoModelForCausalLM, BitsAndBytesConfig\n",
    "\n",
    "# model_id = \"mistralai/Mixtral-8x7B-v0.1\"\n",
    "# tokenizer = AutoTokenizer.from_pretrained(model_id)\n",
    "\n",
    "# quantization_config = BitsAndBytesConfig(\n",
    "#     load_in_4bit=True,\n",
    "#     bnb_4bit_compute_dtype=torch.float16\n",
    "# )\n",
    "# hf_model = AutoModelForCausalLM.from_pretrained(model_id, quantization_config=quantization_config, device_map=\"cuda:0\")\n",
    "\n",
    "# hf_model.model.layers[0].block_sparse_moe"
   ]
  },
  {
   "cell_type": "code",
   "execution_count": null,
   "metadata": {},
   "outputs": [],
   "source": [
    "import torch as t\n",
    "from transformers import BitsAndBytesConfig\n",
    "from nnsight import LanguageModel"
   ]
  },
  {
   "cell_type": "code",
   "execution_count": null,
   "metadata": {},
   "outputs": [],
   "source": [
    "# Experiment Configs\n",
    "DEVICE = 'cuda:0'\n",
    "\n",
    "bnb_config = BitsAndBytesConfig(\n",
    "    load_in_4bit=True,\n",
    "    bnb_4bit_quant_type=\"nf4\",\n",
    "    bnb_4bit_compute_dtype=t.float16,\n",
    "    bnb_4bit_use_double_quant=False,\n",
    ")\n",
    "\n",
    "# NNsight tracer speedups\n",
    "DEBUGGING = False\n",
    "\n",
    "if DEBUGGING:\n",
    "    tracer_kwargs = {'validate' : True, 'scan' : True}\n",
    "else:\n",
    "    tracer_kwargs = {'validate' : False, 'scan' : False}"
   ]
  },
  {
   "cell_type": "code",
   "execution_count": null,
   "metadata": {},
   "outputs": [],
   "source": [
    "model = LanguageModel(\n",
    "    \"mistralai/Mixtral-8x7B-v0.1\", \n",
    "    quantization_config=bnb_config, \n",
    "    device_map=DEVICE, \n",
    "    dispatch=True\n",
    ")"
   ]
  },
  {
   "cell_type": "code",
   "execution_count": null,
   "metadata": {},
   "outputs": [],
   "source": [
    "# Simple inference\n",
    "dataset = [\n",
    "    \"I like to\",\n",
    "    \"Sometimes, YOLOing things is just very\",\n",
    "]\n",
    "\n",
    "with model.trace(dataset, **tracer_kwargs):\n",
    "    out = model.output.save()\n",
    "\n",
    "print(f'Output shape: {out[0].shape}')\n",
    "for i, o in zip(dataset, out[0]):\n",
    "    predicted_token_id = t.argmax(o, dim=-1)[-1]\n",
    "    predicted_token_str = model.tokenizer.decode(predicted_token_id)\n",
    "    print(f'Input: {i} -> Output: {predicted_token_str}')\n"
   ]
  },
  {
   "cell_type": "code",
   "execution_count": null,
   "metadata": {},
   "outputs": [],
   "source": [
    "model"
   ]
  },
  {
   "cell_type": "code",
   "execution_count": null,
   "metadata": {},
   "outputs": [],
   "source": [
    "model.config"
   ]
  },
  {
   "cell_type": "code",
   "execution_count": null,
   "metadata": {},
   "outputs": [],
   "source": [
    "# Cache activations for all used experts for this prompts\n",
    "# Are routings deterministic?\n",
    "\n",
    "prompt_str = \"class MyModel(nn.Module):\\n    def __init__(self):\\n\"\n",
    "\n",
    "with model.trace(prompt_str, **tracer_kwargs), t.no_grad():\n",
    "    act = model.model.layers[0].self_attn.output.save()\n",
    "\n",
    "act.value"
   ]
  },
  {
   "cell_type": "code",
   "execution_count": null,
   "metadata": {},
   "outputs": [],
   "source": [
    "# Submodule\n",
    "LAYER = 15\n",
    "\n",
    "submodules = []\n",
    "for i in range(model.config.num_local_experts):\n",
    "    submodules.append(model.model.layers[LAYER])"
   ]
  },
  {
   "cell_type": "code",
   "execution_count": null,
   "metadata": {},
   "outputs": [],
   "source": [
    "# Cache activations for all used experts for this prompts\n",
    "# Are routings deterministic?\n",
    "\n",
    "prompt_str = \"class MyModel(nn.Module):\\n    def __init__(self):\\n\"\n",
    "\n",
    "acts = {}\n",
    "with model.trace(prompt_str, **tracer_kwargs) and t.no_grad():\n",
    "    for submodule in submodules:\n",
    "        acts[submodule] = submodule.output.save()"
   ]
  },
  {
   "cell_type": "code",
   "execution_count": null,
   "metadata": {},
   "outputs": [],
   "source": [
    "# Check determinism"
   ]
  }
 ],
 "metadata": {
  "kernelspec": {
   "display_name": "Python 3",
   "language": "python",
   "name": "python3"
  },
  "language_info": {
   "codemirror_mode": {
    "name": "ipython",
    "version": 3
   },
   "file_extension": ".py",
   "mimetype": "text/x-python",
   "name": "python",
   "nbconvert_exporter": "python",
   "pygments_lexer": "ipython3",
   "version": "3.11.8"
  }
 },
 "nbformat": 4,
 "nbformat_minor": 2
}
